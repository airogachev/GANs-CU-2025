{
 "cells": [
  {
   "cell_type": "markdown",
   "metadata": {},
   "source": [
    "<table>\n",
    "<tr>\n",
    "  <td style=\"vertical-align: top; padding-right: 20px;\">\n",
    "\n",
    "На планете **СтайлГания-II** государство ввело инновационную систему оформления паспортов: вместо фотографирования граждан, правительство делает портреты на основании «генетического кода» каждого человека. Специальный модуль — биометрический конвейер — берет ДНК-строку `z`, анализирует и синтезирует уникальное изображение лица в высоком разрешении.\n",
    "\n",
    "Недавно появились новые законодательные требования:\n",
    "\n",
    "- В паспорте запрещена борода — даже если человек ее носит в жизни.\n",
    "\n",
    "- В паспорте обязательно улыбаться — лицо должно быть веселым.\n",
    "\n",
    "Денег на изменения системы у правительства не осталось, все ушло на подготовку самых перспективных представителей к межпланетной олимпиаде по ИИ.\n",
    "\n",
    "Предложите решение, как можно попробовать решить эту проблему, например - изменив входной ген `z` нужным образом, чтобы в финальном изображении не было бороды, а грустный представитель планеты обязательно улыбался, сохраняя при этом все остальные черты личности (возраст, цвет волос, форма лица и т.п.).\n",
    "\n",
    "Правительство любит вводить новые требования, поэтому задумайтесь заранее, чтобы ваше решение можно было адаптировать под новые ограничения на фото.\n",
    "\n",
    "  </td>\n",
    "  <td style=\"vertical-align: top;\">\n",
    "\n",
    "<img src=\"SG2.png\" width=\"500\"/>\n",
    "\n",
    "  </td>\n",
    "</tr>\n",
    "</table>\n"
   ]
  },
  {
   "cell_type": "markdown",
   "metadata": {
    "id": "4SGmt6AoydyY"
   },
   "source": [
    "Заберем всю необходимую информацию для работы с системой."
   ]
  },
  {
   "cell_type": "code",
   "execution_count": null,
   "metadata": {
    "colab": {
     "base_uri": "https://localhost:8080/"
    },
    "id": "0ZpnQNPmtIQP",
    "outputId": "22c4557f-7b60-4e42-fc7d-66f42d46106f"
   },
   "outputs": [],
   "source": [
    "import os\n",
    "\n",
    "backend = 'Colab'\n",
    "\n",
    "if backend == 'Colab':\n",
    "    # Клонируем репозиторий, если ещё нет\n",
    "    if not os.path.isdir('/content/GANs-CU-2025'):\n",
    "        !git clone --depth 1 https://github.com/airogachev/GANs-CU-2025.git\n",
    "\n",
    "    # Обновляем apt и устанавливаем ninja\n",
    "    !sudo apt-get update -qq\n",
    "    !sudo apt-get install -y ninja-build\n",
    "\n",
    "    # Переходим в нужную папку\n",
    "    %cd /content/GANs-CU-2025/HW\n"
   ]
  },
  {
   "cell_type": "markdown",
   "metadata": {
    "id": "dv2xU_3Kykpd"
   },
   "source": [
    "Получим опытный образец рабочей модели визуализации паспортов."
   ]
  },
  {
   "cell_type": "code",
   "execution_count": null,
   "metadata": {
    "colab": {
     "base_uri": "https://localhost:8080/"
    },
    "id": "C2fnXRaEtIMV",
    "outputId": "d8b2733e-a9d3-40aa-b166-ca1394b78df9"
   },
   "outputs": [],
   "source": [
    "import os\n",
    "import sys\n",
    "\n",
    "# 1. Скачиваем pretrained.tar только если ещё нет файла\n",
    "if not os.path.isfile('pretrained.tar'):\n",
    "    !wget -q --show-progress https://www.dropbox.com/s/2kpsomtla61gjrn/pretrained.tar -O pretrained.tar\n",
    "else:\n",
    "    print('pretrained.tar уже загружен')\n",
    "\n",
    "# 2. Распаковываем в папку pretrained/, если её нет\n",
    "if not os.path.isdir('pretrained'):\n",
    "    !tar -xvf pretrained.tar\n",
    "else:\n",
    "    print('Каталог pretrained/ уже существует')\n",
    "\n",
    "# 3. Добавляем в PYTHONPATH папку с кодом\n",
    "module_path = '/content/GANs-CU-2025/HW'\n",
    "if module_path not in sys.path:\n",
    "    sys.path.append(module_path)\n",
    "    print(f'Добавил {module_path} в sys.path')\n",
    "else:\n",
    "    print(f'{module_path} уже в sys.path')"
   ]
  },
  {
   "cell_type": "markdown",
   "metadata": {
    "id": "_uuo1-OQy6t6"
   },
   "source": [
    "Подготовим среду для экспериментов."
   ]
  },
  {
   "cell_type": "code",
   "execution_count": null,
   "metadata": {
    "colab": {
     "base_uri": "https://localhost:8080/"
    },
    "id": "nvSQ79EhtIHb",
    "outputId": "de6f9300-fedb-451f-c983-4fc2313e1541"
   },
   "outputs": [],
   "source": [
    "import os\n",
    "import torch\n",
    "import numpy as np\n",
    "import matplotlib.pyplot as plt\n",
    "import torchvision\n",
    "from torchvision.utils import make_grid\n",
    "from torchvision.transforms import ToPILImage\n",
    "from tqdm.auto import tqdm, trange\n",
    "from PIL import Image\n",
    "\n",
    "from gans.gan_load import make_stylegan2\n",
    "\n",
    "# ---------------- Настройки окружения ----------------\n",
    "# Устройство\n",
    "device = torch.device('cuda' if torch.cuda.is_available() else 'cpu')\n",
    "print(f\"Using device: {device}\")\n",
    "print(f\"CUDA devices count: {torch.cuda.device_count()}\")\n",
    "print(f\"PyTorch version: {torch.__version__}\")\n",
    "\n",
    "# Семена для воспроизводимости при работе с генами\n",
    "torch.manual_seed(42)\n",
    "np.random.seed(42)\n",
    "\n",
    "# -----------------------------------------------------\n",
    "\n",
    "def to_image(tensor: torch.Tensor, adaptive: bool = False) -> Image.Image:\n",
    "    \"\"\"\n",
    "    Преобразует тензор StyleGAN (в диапазоне [-1,1]) в PIL.Image.\n",
    "    Если tensor.ndim==4, берёт первый канал по batch.\n",
    "    Если adaptive=True — масштабирует по собственным мин/макс;\n",
    "    иначе линейно переводит из [-1,1] в [0,1].\n",
    "    \"\"\"\n",
    "    if tensor.ndim == 4:\n",
    "        tensor = tensor[0]\n",
    "    tensor = tensor.cpu().detach()\n",
    "    if adaptive:\n",
    "        tensor = (tensor - tensor.min()) / (tensor.max() - tensor.min())\n",
    "    else:\n",
    "        tensor = ((tensor + 1) / 2).clamp(0, 1)\n",
    "    img_uint8 = (tensor * 255).to(torch.uint8)\n",
    "    return ToPILImage()(img_uint8)\n",
    "\n",
    "def to_image_grid(tensors: torch.Tensor, adaptive: bool = False, nrow: int = 8, padding: int = 2) -> Image.Image:\n",
    "    \"\"\"\n",
    "    Создаёт сетку из batch-тензоров [B, C, H, W] и возвращает PIL.Image.\n",
    "    Параметры nrow, padding передаются в torchvision.utils.make_grid.\n",
    "    \"\"\"\n",
    "    grid = make_grid(tensors, nrow=nrow, padding=padding)\n",
    "    return to_image(grid, adaptive)\n"
   ]
  },
  {
   "cell_type": "markdown",
   "metadata": {
    "id": "agcDywuvy_Pu"
   },
   "source": [
    "Запустим опытный образец, который по случайному стечению обстоятельств именнуется StyleGAN2"
   ]
  },
  {
   "cell_type": "code",
   "execution_count": null,
   "metadata": {
    "colab": {
     "base_uri": "https://localhost:8080/"
    },
    "id": "O_KVVp1gtpdg",
    "outputId": "dc76f0fe-b5be-4c95-f8a4-f4204d97ea50"
   },
   "outputs": [],
   "source": [
    "from pathlib import Path\n",
    "import torch\n",
    "\n",
    "# ---------------- Настройки модели ----------------\n",
    "# Устройство (повторно определяем для надёжности)\n",
    "device = torch.device('cuda' if torch.cuda.is_available() else 'cpu')\n",
    "print(f\"Using device: {device}\")\n",
    "\n",
    "# Путь к чекпоинту (относительно текущей директории)\n",
    "CKPT_PATH = Path('pretrained/stylegan2-ffhq-config-f.pt')\n",
    "assert CKPT_PATH.exists(), f\"❌ Checkpoint not found: {CKPT_PATH}\"\n",
    "\n",
    "# Загружаем StyleGAN2\n",
    "# В pretrained.tar обычно лежит g_ema, поэтому target_key='g_ema'\n",
    "G = make_stylegan2(\n",
    "    resolution=1024,\n",
    "    weights=str(CKPT_PATH),\n",
    "    target_key='g_ema',     # или None, если ключи в state_dict сразу «g»\n",
    "    shift_in_w=True\n",
    ").to(device)\n",
    "G.eval()\n",
    "\n",
    "# Размерность гена, который используется для генерации\n",
    "LATENT_DIM = getattr(G, 'dim_z', 512)\n",
    "print(f\"Loaded StyleGAN2 generator — latent dim = {LATENT_DIM}\")\n"
   ]
  },
  {
   "cell_type": "markdown",
   "metadata": {
    "id": "y6Qk11zhz987"
   },
   "source": [
    "Посмотрим, кто живет на этой планете и как пользоваться поделием для визуализации."
   ]
  },
  {
   "cell_type": "code",
   "execution_count": null,
   "metadata": {
    "colab": {
     "base_uri": "https://localhost:8080/",
     "height": 744
    },
    "id": "WyPzaOEftpYr",
    "outputId": "e34b449a-eb45-4198-e4fe-df10b55260ac"
   },
   "outputs": [],
   "source": [
    "# Простая генерация 12 случайных лиц\n",
    "with torch.no_grad():\n",
    "    z = torch.randn(12, LATENT_DIM, device=device)\n",
    "    imgs = G(z)  # plain generation без truncation\n",
    "\n",
    "plt.figure(figsize=(8,8), dpi=150)\n",
    "plt.axis('off')\n",
    "plt.imshow(to_image_grid(imgs, nrow=4))\n",
    "plt.show()"
   ]
  },
  {
   "cell_type": "markdown",
   "metadata": {
    "id": "YO0Hhb7P0Qp0"
   },
   "source": [
    "Посмотрим, дозволено ли нам заниматься арифметикой генов."
   ]
  },
  {
   "cell_type": "code",
   "execution_count": null,
   "metadata": {
    "colab": {
     "base_uri": "https://localhost:8080/",
     "height": 393
    },
    "id": "8Zial6cKuayL",
    "outputId": "b7f1afab-b27f-4963-98ca-120f9088ca7b"
   },
   "outputs": [],
   "source": [
    "with torch.no_grad():\n",
    "    # 1) Генерируем два разных z\n",
    "    z1 = torch.randn(1, LATENT_DIM, device=device)\n",
    "    z2 = torch.randn(1, LATENT_DIM, device=device)\n",
    "    # 2) Простая генерация «до»\n",
    "    img1 = G(z1)                   # лицо из z1\n",
    "    img2 = G(z2)                   # лицо из z2\n",
    "\n",
    "    # 3) Переводим в w-пространство\n",
    "    w1 = G.style_gan2.get_latent(z1).unsqueeze(1).repeat(1, G.style_gan2.n_latent, 1)\n",
    "    w2 = G.style_gan2.get_latent(z2).unsqueeze(1).repeat(1, G.style_gan2.n_latent, 1)\n",
    "    # 4) Собираем микс:  первые 6 слоёв из w1, остальные из w2\n",
    "    w_mix = w1.clone()\n",
    "    w_mix[:, 6:] = w2[:, 6:]\n",
    "    img_mix = G(w_mix, w_space=True)  # смешанное лицо\n",
    "\n",
    "imgs = torch.cat([img1, img2, img_mix], dim=0)\n",
    "plt.figure(figsize=(9,3), dpi=150)\n",
    "plt.axis('off')\n",
    "plt.imshow(to_image_grid(imgs, nrow=3))\n",
    "plt.show()\n"
   ]
  },
  {
   "cell_type": "markdown",
   "metadata": {
    "id": "KSyDUL2h0hSp"
   },
   "source": [
    "Решите главную задачу, поставленную руководством. Принимайте самые смелые решения для контроля визуализации, но не меняйте исходную модель. Не забудьте постараться по возможности сделать решение масштабируемым на новые требования к фото на паспорт."
   ]
  }
 ],
 "metadata": {
  "accelerator": "GPU",
  "colab": {
   "gpuType": "T4",
   "provenance": []
  },
  "kernelspec": {
   "display_name": "Python 3 (ipykernel)",
   "language": "python",
   "name": "python3"
  },
  "language_info": {
   "codemirror_mode": {
    "name": "ipython",
    "version": 3
   },
   "file_extension": ".py",
   "mimetype": "text/x-python",
   "name": "python",
   "nbconvert_exporter": "python",
   "pygments_lexer": "ipython3",
   "version": "3.8.11"
  },
  "widgets": {
   "application/vnd.jupyter.widget-state+json": {
    "351b4afa26bc42bba801d1f384da0f9c": {
     "model_module": "@jupyter-widgets/controls",
     "model_module_version": "1.5.0",
     "model_name": "HTMLModel",
     "state": {
      "_dom_classes": [],
      "_model_module": "@jupyter-widgets/controls",
      "_model_module_version": "1.5.0",
      "_model_name": "HTMLModel",
      "_view_count": null,
      "_view_module": "@jupyter-widgets/controls",
      "_view_module_version": "1.5.0",
      "_view_name": "HTMLView",
      "description": "",
      "description_tooltip": null,
      "layout": "IPY_MODEL_eaf17a3bf6254d3f88ade78328ca508d",
      "placeholder": "​",
      "style": "IPY_MODEL_6143013d6f7f46a6ad00ae73445697e3",
      "value": "CLIP feats: 100%"
     }
    },
    "6143013d6f7f46a6ad00ae73445697e3": {
     "model_module": "@jupyter-widgets/controls",
     "model_module_version": "1.5.0",
     "model_name": "DescriptionStyleModel",
     "state": {
      "_model_module": "@jupyter-widgets/controls",
      "_model_module_version": "1.5.0",
      "_model_name": "DescriptionStyleModel",
      "_view_count": null,
      "_view_module": "@jupyter-widgets/base",
      "_view_module_version": "1.2.0",
      "_view_name": "StyleView",
      "description_width": ""
     }
    },
    "6c5db4d5573c4d93a05029a80bc9be9a": {
     "model_module": "@jupyter-widgets/controls",
     "model_module_version": "1.5.0",
     "model_name": "ProgressStyleModel",
     "state": {
      "_model_module": "@jupyter-widgets/controls",
      "_model_module_version": "1.5.0",
      "_model_name": "ProgressStyleModel",
      "_view_count": null,
      "_view_module": "@jupyter-widgets/base",
      "_view_module_version": "1.2.0",
      "_view_name": "StyleView",
      "bar_color": null,
      "description_width": ""
     }
    },
    "8b6494de262341e79a9735db7cddf5af": {
     "model_module": "@jupyter-widgets/controls",
     "model_module_version": "1.5.0",
     "model_name": "HBoxModel",
     "state": {
      "_dom_classes": [],
      "_model_module": "@jupyter-widgets/controls",
      "_model_module_version": "1.5.0",
      "_model_name": "HBoxModel",
      "_view_count": null,
      "_view_module": "@jupyter-widgets/controls",
      "_view_module_version": "1.5.0",
      "_view_name": "HBoxView",
      "box_style": "",
      "children": [
       "IPY_MODEL_351b4afa26bc42bba801d1f384da0f9c",
       "IPY_MODEL_a1cd1454bdf94f2da28cb2352f4a1ebe",
       "IPY_MODEL_8f3e70a9839e4b0eaa0da18e7da3d75a"
      ],
      "layout": "IPY_MODEL_e1dbe480762b4d6d8e292ef415260dfb"
     }
    },
    "8f3e70a9839e4b0eaa0da18e7da3d75a": {
     "model_module": "@jupyter-widgets/controls",
     "model_module_version": "1.5.0",
     "model_name": "HTMLModel",
     "state": {
      "_dom_classes": [],
      "_model_module": "@jupyter-widgets/controls",
      "_model_module_version": "1.5.0",
      "_model_name": "HTMLModel",
      "_view_count": null,
      "_view_module": "@jupyter-widgets/controls",
      "_view_module_version": "1.5.0",
      "_view_name": "HTMLView",
      "description": "",
      "description_tooltip": null,
      "layout": "IPY_MODEL_c475a9b952c641709a9260c7f119170d",
      "placeholder": "​",
      "style": "IPY_MODEL_cc4babd722ab4c9cb22d2c021f0fbe29",
      "value": " 8/8 [00:26&lt;00:00,  3.51s/it]"
     }
    },
    "a1cd1454bdf94f2da28cb2352f4a1ebe": {
     "model_module": "@jupyter-widgets/controls",
     "model_module_version": "1.5.0",
     "model_name": "FloatProgressModel",
     "state": {
      "_dom_classes": [],
      "_model_module": "@jupyter-widgets/controls",
      "_model_module_version": "1.5.0",
      "_model_name": "FloatProgressModel",
      "_view_count": null,
      "_view_module": "@jupyter-widgets/controls",
      "_view_module_version": "1.5.0",
      "_view_name": "ProgressView",
      "bar_style": "success",
      "description": "",
      "description_tooltip": null,
      "layout": "IPY_MODEL_ec9fdf9e385f45fe9016d0667058abcd",
      "max": 8,
      "min": 0,
      "orientation": "horizontal",
      "style": "IPY_MODEL_6c5db4d5573c4d93a05029a80bc9be9a",
      "value": 8
     }
    },
    "c475a9b952c641709a9260c7f119170d": {
     "model_module": "@jupyter-widgets/base",
     "model_module_version": "1.2.0",
     "model_name": "LayoutModel",
     "state": {
      "_model_module": "@jupyter-widgets/base",
      "_model_module_version": "1.2.0",
      "_model_name": "LayoutModel",
      "_view_count": null,
      "_view_module": "@jupyter-widgets/base",
      "_view_module_version": "1.2.0",
      "_view_name": "LayoutView",
      "align_content": null,
      "align_items": null,
      "align_self": null,
      "border": null,
      "bottom": null,
      "display": null,
      "flex": null,
      "flex_flow": null,
      "grid_area": null,
      "grid_auto_columns": null,
      "grid_auto_flow": null,
      "grid_auto_rows": null,
      "grid_column": null,
      "grid_gap": null,
      "grid_row": null,
      "grid_template_areas": null,
      "grid_template_columns": null,
      "grid_template_rows": null,
      "height": null,
      "justify_content": null,
      "justify_items": null,
      "left": null,
      "margin": null,
      "max_height": null,
      "max_width": null,
      "min_height": null,
      "min_width": null,
      "object_fit": null,
      "object_position": null,
      "order": null,
      "overflow": null,
      "overflow_x": null,
      "overflow_y": null,
      "padding": null,
      "right": null,
      "top": null,
      "visibility": null,
      "width": null
     }
    },
    "cc4babd722ab4c9cb22d2c021f0fbe29": {
     "model_module": "@jupyter-widgets/controls",
     "model_module_version": "1.5.0",
     "model_name": "DescriptionStyleModel",
     "state": {
      "_model_module": "@jupyter-widgets/controls",
      "_model_module_version": "1.5.0",
      "_model_name": "DescriptionStyleModel",
      "_view_count": null,
      "_view_module": "@jupyter-widgets/base",
      "_view_module_version": "1.2.0",
      "_view_name": "StyleView",
      "description_width": ""
     }
    },
    "e1dbe480762b4d6d8e292ef415260dfb": {
     "model_module": "@jupyter-widgets/base",
     "model_module_version": "1.2.0",
     "model_name": "LayoutModel",
     "state": {
      "_model_module": "@jupyter-widgets/base",
      "_model_module_version": "1.2.0",
      "_model_name": "LayoutModel",
      "_view_count": null,
      "_view_module": "@jupyter-widgets/base",
      "_view_module_version": "1.2.0",
      "_view_name": "LayoutView",
      "align_content": null,
      "align_items": null,
      "align_self": null,
      "border": null,
      "bottom": null,
      "display": null,
      "flex": null,
      "flex_flow": null,
      "grid_area": null,
      "grid_auto_columns": null,
      "grid_auto_flow": null,
      "grid_auto_rows": null,
      "grid_column": null,
      "grid_gap": null,
      "grid_row": null,
      "grid_template_areas": null,
      "grid_template_columns": null,
      "grid_template_rows": null,
      "height": null,
      "justify_content": null,
      "justify_items": null,
      "left": null,
      "margin": null,
      "max_height": null,
      "max_width": null,
      "min_height": null,
      "min_width": null,
      "object_fit": null,
      "object_position": null,
      "order": null,
      "overflow": null,
      "overflow_x": null,
      "overflow_y": null,
      "padding": null,
      "right": null,
      "top": null,
      "visibility": null,
      "width": null
     }
    },
    "eaf17a3bf6254d3f88ade78328ca508d": {
     "model_module": "@jupyter-widgets/base",
     "model_module_version": "1.2.0",
     "model_name": "LayoutModel",
     "state": {
      "_model_module": "@jupyter-widgets/base",
      "_model_module_version": "1.2.0",
      "_model_name": "LayoutModel",
      "_view_count": null,
      "_view_module": "@jupyter-widgets/base",
      "_view_module_version": "1.2.0",
      "_view_name": "LayoutView",
      "align_content": null,
      "align_items": null,
      "align_self": null,
      "border": null,
      "bottom": null,
      "display": null,
      "flex": null,
      "flex_flow": null,
      "grid_area": null,
      "grid_auto_columns": null,
      "grid_auto_flow": null,
      "grid_auto_rows": null,
      "grid_column": null,
      "grid_gap": null,
      "grid_row": null,
      "grid_template_areas": null,
      "grid_template_columns": null,
      "grid_template_rows": null,
      "height": null,
      "justify_content": null,
      "justify_items": null,
      "left": null,
      "margin": null,
      "max_height": null,
      "max_width": null,
      "min_height": null,
      "min_width": null,
      "object_fit": null,
      "object_position": null,
      "order": null,
      "overflow": null,
      "overflow_x": null,
      "overflow_y": null,
      "padding": null,
      "right": null,
      "top": null,
      "visibility": null,
      "width": null
     }
    },
    "ec9fdf9e385f45fe9016d0667058abcd": {
     "model_module": "@jupyter-widgets/base",
     "model_module_version": "1.2.0",
     "model_name": "LayoutModel",
     "state": {
      "_model_module": "@jupyter-widgets/base",
      "_model_module_version": "1.2.0",
      "_model_name": "LayoutModel",
      "_view_count": null,
      "_view_module": "@jupyter-widgets/base",
      "_view_module_version": "1.2.0",
      "_view_name": "LayoutView",
      "align_content": null,
      "align_items": null,
      "align_self": null,
      "border": null,
      "bottom": null,
      "display": null,
      "flex": null,
      "flex_flow": null,
      "grid_area": null,
      "grid_auto_columns": null,
      "grid_auto_flow": null,
      "grid_auto_rows": null,
      "grid_column": null,
      "grid_gap": null,
      "grid_row": null,
      "grid_template_areas": null,
      "grid_template_columns": null,
      "grid_template_rows": null,
      "height": null,
      "justify_content": null,
      "justify_items": null,
      "left": null,
      "margin": null,
      "max_height": null,
      "max_width": null,
      "min_height": null,
      "min_width": null,
      "object_fit": null,
      "object_position": null,
      "order": null,
      "overflow": null,
      "overflow_x": null,
      "overflow_y": null,
      "padding": null,
      "right": null,
      "top": null,
      "visibility": null,
      "width": null
     }
    }
   }
  }
 },
 "nbformat": 4,
 "nbformat_minor": 1
}
